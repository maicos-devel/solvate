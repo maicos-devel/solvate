{
 "cells": [
  {
   "cell_type": "markdown",
   "metadata": {},
   "source": [
    "# Import nonmaicos"
   ]
  },
  {
   "cell_type": "code",
   "execution_count": 1,
   "metadata": {},
   "outputs": [
    {
     "data": {
      "application/vnd.jupyter.widget-view+json": {
       "model_id": "16c258baf1284caf812c0c620c5923bd",
       "version_major": 2,
       "version_minor": 0
      },
      "text/plain": []
     },
     "metadata": {},
     "output_type": "display_data"
    }
   ],
   "source": [
    "import nonmaicos\n",
    "import maicos\n",
    "import nglview"
   ]
  },
  {
   "cell_type": "markdown",
   "metadata": {},
   "source": [
    "now you can create simple systems, for example:"
   ]
  },
  {
   "cell_type": "code",
   "execution_count": 2,
   "metadata": {},
   "outputs": [
    {
     "name": "stdout",
     "output_type": "stream",
     "text": [
      "Should solvate 264000 Projectiles\n",
      "Solvation factor: 100\n",
      "Best tiling is 14x14x14.\n",
      "Real solvation factor is 97\n",
      "This results in a total of 266168 projectiles in the solvate box\n"
     ]
    },
    {
     "name": "stderr",
     "output_type": "stream",
     "text": [
      "100%|██████████| 96/96 [00:01<00:00, 87.17it/s] \n"
     ]
    },
    {
     "name": "stdout",
     "output_type": "stream",
     "text": [
      "Tiling solvate box...\n"
     ]
    },
    {
     "name": "stderr",
     "output_type": "stream",
     "text": [
      "100%|██████████| 14/14 [00:05<00:00,  2.64it/s]\n"
     ]
    },
    {
     "name": "stdout",
     "output_type": "stream",
     "text": [
      "Inserting solvate box into target universe...\n",
      "Target atoms: 0\n",
      "Projectile atoms: 798504\n",
      "Search for overlapping atoms...\n",
      "Resulting number of atoms: 798504\n",
      "Expected number of atoms: 792000\n",
      "Too many projectiles inserted: 2168\n",
      "798504\n",
      "266168\n",
      "(266168,)\n",
      "Removing 2168 randomly selected projectiles.\n",
      "Final number of atoms: 792000\n"
     ]
    }
   ],
   "source": [
    "u_bulk = nonmaicos.SolvatePlanar(nonmaicos.models.empty([250,250,250,90,90,90]), nonmaicos.models.spce(), 20**3 * 33)"
   ]
  },
  {
   "cell_type": "code",
   "execution_count": 6,
   "metadata": {},
   "outputs": [],
   "source": [
    "u_bulk.atoms.write('bulk.gro')"
   ]
  },
  {
   "cell_type": "code",
   "execution_count": 4,
   "metadata": {},
   "outputs": [
    {
     "ename": "KeyboardInterrupt",
     "evalue": "",
     "output_type": "error",
     "traceback": [
      "\u001b[0;31m---------------------------------------------------------------------------\u001b[0m",
      "\u001b[0;31mKeyboardInterrupt\u001b[0m                         Traceback (most recent call last)",
      "Cell \u001b[0;32mIn[4], line 1\u001b[0m\n\u001b[0;32m----> 1\u001b[0m w \u001b[39m=\u001b[39m nglview\u001b[39m.\u001b[39;49mshow_mdanalysis(u_bulk)\n\u001b[1;32m      2\u001b[0m w\u001b[39m.\u001b[39madd_representation(\u001b[39m'\u001b[39m\u001b[39mball+stick\u001b[39m\u001b[39m'\u001b[39m)\n\u001b[1;32m      3\u001b[0m w\u001b[39m.\u001b[39madd_representation(\u001b[39m'\u001b[39m\u001b[39munitcell\u001b[39m\u001b[39m'\u001b[39m)\n",
      "File \u001b[0;32m~/Library/Python/3.9/lib/python/site-packages/nglview/show.py:392\u001b[0m, in \u001b[0;36mshow_mdanalysis\u001b[0;34m(atomgroup, **kwargs)\u001b[0m\n\u001b[1;32m    378\u001b[0m \u001b[39m'''Show NGL widget with MDAnalysis AtomGroup.\u001b[39;00m\n\u001b[1;32m    379\u001b[0m \n\u001b[1;32m    380\u001b[0m \u001b[39mCan take either a Universe or AtomGroup as its data input.\u001b[39;00m\n\u001b[0;32m   (...)\u001b[0m\n\u001b[1;32m    389\u001b[0m \u001b[39m... w\u001b[39;00m\n\u001b[1;32m    390\u001b[0m \u001b[39m'''\u001b[39;00m\n\u001b[1;32m    391\u001b[0m structure_trajectory \u001b[39m=\u001b[39m MDAnalysisTrajectory(atomgroup)\n\u001b[0;32m--> 392\u001b[0m \u001b[39mreturn\u001b[39;00m NGLWidget(structure_trajectory, \u001b[39m*\u001b[39;49m\u001b[39m*\u001b[39;49mkwargs)\n",
      "File \u001b[0;32m~/Library/Python/3.9/lib/python/site-packages/nglview/widget.py:237\u001b[0m, in \u001b[0;36mNGLWidget.__init__\u001b[0;34m(self, structure, representations, parameters, **kwargs)\u001b[0m\n\u001b[1;32m    235\u001b[0m \u001b[39mif\u001b[39;00m \u001b[39misinstance\u001b[39m(structure, Trajectory):\n\u001b[1;32m    236\u001b[0m     name \u001b[39m=\u001b[39m py_utils\u001b[39m.\u001b[39mget_name(structure, \u001b[39m*\u001b[39m\u001b[39m*\u001b[39mkwargs)\n\u001b[0;32m--> 237\u001b[0m     \u001b[39mself\u001b[39;49m\u001b[39m.\u001b[39;49madd_trajectory(structure, name\u001b[39m=\u001b[39;49mname, \u001b[39m*\u001b[39;49m\u001b[39m*\u001b[39;49mkwargs)\n\u001b[1;32m    238\u001b[0m \u001b[39melif\u001b[39;00m \u001b[39misinstance\u001b[39m(structure, (\u001b[39mlist\u001b[39m, \u001b[39mtuple\u001b[39m)):\n\u001b[1;32m    239\u001b[0m     trajectories \u001b[39m=\u001b[39m structure\n",
      "File \u001b[0;32m~/Library/Python/3.9/lib/python/site-packages/nglview/widget.py:1153\u001b[0m, in \u001b[0;36mNGLWidget.add_trajectory\u001b[0;34m(self, trajectory, **kwargs)\u001b[0m\n\u001b[1;32m   1150\u001b[0m \u001b[39melse\u001b[39;00m:\n\u001b[1;32m   1151\u001b[0m     trajectory \u001b[39m=\u001b[39m trajectory\n\u001b[0;32m-> 1153\u001b[0m \u001b[39mself\u001b[39;49m\u001b[39m.\u001b[39;49m_load_data(trajectory, \u001b[39m*\u001b[39;49m\u001b[39m*\u001b[39;49mkwargs)\n\u001b[1;32m   1154\u001b[0m \u001b[39msetattr\u001b[39m(trajectory, \u001b[39m'\u001b[39m\u001b[39mshown\u001b[39m\u001b[39m'\u001b[39m, \u001b[39mTrue\u001b[39;00m)\n\u001b[1;32m   1155\u001b[0m \u001b[39mself\u001b[39m\u001b[39m.\u001b[39m_trajlist\u001b[39m.\u001b[39mappend(trajectory)\n",
      "File \u001b[0;32m~/Library/Python/3.9/lib/python/site-packages/nglview/widget.py:1231\u001b[0m, in \u001b[0;36mNGLWidget._load_data\u001b[0;34m(self, obj, **kwargs)\u001b[0m\n\u001b[1;32m   1229\u001b[0m \u001b[39mif\u001b[39;00m \u001b[39mnot\u001b[39;00m is_url:\n\u001b[1;32m   1230\u001b[0m     \u001b[39mif\u001b[39;00m \u001b[39mhasattr\u001b[39m(obj, \u001b[39m'\u001b[39m\u001b[39mget_structure_string\u001b[39m\u001b[39m'\u001b[39m):\n\u001b[0;32m-> 1231\u001b[0m         blob \u001b[39m=\u001b[39m obj\u001b[39m.\u001b[39;49mget_structure_string()\n\u001b[1;32m   1232\u001b[0m         kwargs2[\u001b[39m'\u001b[39m\u001b[39mext\u001b[39m\u001b[39m'\u001b[39m] \u001b[39m=\u001b[39m obj\u001b[39m.\u001b[39mext\n\u001b[1;32m   1233\u001b[0m         passing_buffer \u001b[39m=\u001b[39m \u001b[39mTrue\u001b[39;00m\n",
      "File \u001b[0;32m~/Library/Python/3.9/lib/python/site-packages/nglview/adaptor.py:457\u001b[0m, in \u001b[0;36mMDAnalysisTrajectory.get_structure_string\u001b[0;34m(self)\u001b[0m\n\u001b[1;32m    455\u001b[0m     \u001b[39mwith\u001b[39;00m warnings\u001b[39m.\u001b[39mcatch_warnings():\n\u001b[1;32m    456\u001b[0m         warnings\u001b[39m.\u001b[39msimplefilter(\u001b[39m'\u001b[39m\u001b[39mignore\u001b[39m\u001b[39m'\u001b[39m)\n\u001b[0;32m--> 457\u001b[0m         w\u001b[39m.\u001b[39mwrite(atoms)\n\u001b[1;32m    458\u001b[0m \u001b[39m# extract from the stream\u001b[39;00m\n\u001b[1;32m    459\u001b[0m pdb_string \u001b[39m=\u001b[39m f\u001b[39m.\u001b[39mread()\n",
      "File \u001b[0;32m~/Library/Python/3.9/lib/python/site-packages/MDAnalysis/coordinates/base.py:613\u001b[0m, in \u001b[0;36mIOBase.__exit__\u001b[0;34m(self, exc_type, exc_val, exc_tb)\u001b[0m\n\u001b[1;32m    611\u001b[0m \u001b[39mdef\u001b[39;00m \u001b[39m__exit__\u001b[39m(\u001b[39mself\u001b[39m, exc_type, exc_val, exc_tb):\n\u001b[1;32m    612\u001b[0m     \u001b[39m# see http://docs.python.org/2/library/stdtypes.html#typecontextmanager\u001b[39;00m\n\u001b[0;32m--> 613\u001b[0m     \u001b[39mself\u001b[39;49m\u001b[39m.\u001b[39;49mclose()\n\u001b[1;32m    614\u001b[0m     \u001b[39mreturn\u001b[39;00m \u001b[39mFalse\u001b[39;00m\n",
      "File \u001b[0;32m~/Library/Python/3.9/lib/python/site-packages/MDAnalysis/coordinates/PDB.py:682\u001b[0m, in \u001b[0;36mPDBWriter.close\u001b[0;34m(self)\u001b[0m\n\u001b[1;32m    680\u001b[0m \u001b[39mif\u001b[39;00m \u001b[39mhasattr\u001b[39m(\u001b[39mself\u001b[39m, \u001b[39m'\u001b[39m\u001b[39mpdbfile\u001b[39m\u001b[39m'\u001b[39m) \u001b[39mand\u001b[39;00m \u001b[39mself\u001b[39m\u001b[39m.\u001b[39mpdbfile \u001b[39mis\u001b[39;00m \u001b[39mnot\u001b[39;00m \u001b[39mNone\u001b[39;00m:\n\u001b[1;32m    681\u001b[0m     \u001b[39mif\u001b[39;00m \u001b[39mnot\u001b[39;00m \u001b[39mself\u001b[39m\u001b[39m.\u001b[39mhas_END:\n\u001b[0;32m--> 682\u001b[0m         \u001b[39mself\u001b[39;49m\u001b[39m.\u001b[39;49m_write_pdb_bonds()\n\u001b[1;32m    683\u001b[0m         \u001b[39mself\u001b[39m\u001b[39m.\u001b[39mEND()\n\u001b[1;32m    684\u001b[0m     \u001b[39melse\u001b[39;00m:\n",
      "File \u001b[0;32m~/Library/Python/3.9/lib/python/site-packages/MDAnalysis/coordinates/PDB.py:824\u001b[0m, in \u001b[0;36mPDBWriter._write_pdb_bonds\u001b[0;34m(self)\u001b[0m\n\u001b[1;32m    822\u001b[0m \u001b[39mif\u001b[39;00m \u001b[39mself\u001b[39m\u001b[39m.\u001b[39m_reindex:\n\u001b[1;32m    823\u001b[0m     index_attribute \u001b[39m=\u001b[39m \u001b[39m'\u001b[39m\u001b[39mindex\u001b[39m\u001b[39m'\u001b[39m\n\u001b[0;32m--> 824\u001b[0m     mapping \u001b[39m=\u001b[39m {\n\u001b[1;32m    825\u001b[0m         index: i\n\u001b[1;32m    826\u001b[0m         \u001b[39mfor\u001b[39;00m i, index \u001b[39min\u001b[39;00m \u001b[39menumerate\u001b[39m(\u001b[39mself\u001b[39m\u001b[39m.\u001b[39mobj\u001b[39m.\u001b[39matoms\u001b[39m.\u001b[39mindices, start\u001b[39m=\u001b[39m\u001b[39m1\u001b[39m)\n\u001b[1;32m    827\u001b[0m     }\n\u001b[1;32m    828\u001b[0m     atoms \u001b[39m=\u001b[39m np\u001b[39m.\u001b[39msort(\u001b[39mself\u001b[39m\u001b[39m.\u001b[39mobj\u001b[39m.\u001b[39matoms\u001b[39m.\u001b[39mindices)\n\u001b[1;32m    829\u001b[0m \u001b[39melse\u001b[39;00m:\n",
      "File \u001b[0;32m~/Library/Python/3.9/lib/python/site-packages/MDAnalysis/coordinates/PDB.py:825\u001b[0m, in \u001b[0;36m<dictcomp>\u001b[0;34m(.0)\u001b[0m\n\u001b[1;32m    822\u001b[0m \u001b[39mif\u001b[39;00m \u001b[39mself\u001b[39m\u001b[39m.\u001b[39m_reindex:\n\u001b[1;32m    823\u001b[0m     index_attribute \u001b[39m=\u001b[39m \u001b[39m'\u001b[39m\u001b[39mindex\u001b[39m\u001b[39m'\u001b[39m\n\u001b[1;32m    824\u001b[0m     mapping \u001b[39m=\u001b[39m {\n\u001b[0;32m--> 825\u001b[0m         index: i\n\u001b[1;32m    826\u001b[0m         \u001b[39mfor\u001b[39;00m i, index \u001b[39min\u001b[39;00m \u001b[39menumerate\u001b[39m(\u001b[39mself\u001b[39m\u001b[39m.\u001b[39mobj\u001b[39m.\u001b[39matoms\u001b[39m.\u001b[39mindices, start\u001b[39m=\u001b[39m\u001b[39m1\u001b[39m)\n\u001b[1;32m    827\u001b[0m     }\n\u001b[1;32m    828\u001b[0m     atoms \u001b[39m=\u001b[39m np\u001b[39m.\u001b[39msort(\u001b[39mself\u001b[39m\u001b[39m.\u001b[39mobj\u001b[39m.\u001b[39matoms\u001b[39m.\u001b[39mindices)\n\u001b[1;32m    829\u001b[0m \u001b[39melse\u001b[39;00m:\n",
      "\u001b[0;31mKeyboardInterrupt\u001b[0m: "
     ]
    }
   ],
   "source": [
    "w = nglview.show_mdanalysis(u_bulk)\n",
    "w.add_representation('ball+stick')\n",
    "w.add_representation('unitcell')\n",
    "w"
   ]
  },
  {
   "cell_type": "markdown",
   "metadata": {},
   "source": [
    "More complex systems can be created by insertion into existing systems:"
   ]
  },
  {
   "cell_type": "code",
   "execution_count": null,
   "metadata": {},
   "outputs": [],
   "source": [
    "ana = maicos.DensityPlanar(u_bulk.atoms).run()"
   ]
  },
  {
   "cell_type": "code",
   "execution_count": null,
   "metadata": {},
   "outputs": [],
   "source": [
    "import matplotlib.pyplot as plt\n",
    "plt.plot(ana.results.bin_pos, ana.results.profile)"
   ]
  },
  {
   "cell_type": "code",
   "execution_count": null,
   "metadata": {},
   "outputs": [],
   "source": [
    "dimensions = [40,40,40,90,90,90]\n",
    "n_sol = 4**3 * 33 / dens_factor\n",
    "\n",
    "u = nonmaicos.InsertPlanar(nonmaicos.models.empty(dimensions), nonmaicos.models.spce(), n_sol/3, zmax=dimensions[2]/3 )\n",
    "u = nonmaicos.InsertPlanar(u, nonmaicos.models.spce(), n_sol/3, zmin=2*dimensions[2]/3 )\n",
    "u = nonmaicos.InsertCylinder(u, nonmaicos.models.spce(), n_sol/6, radius=dimensions[2]/6, dim=0)\n",
    "u.atoms.write('test.gro')"
   ]
  },
  {
   "cell_type": "code",
   "execution_count": null,
   "metadata": {},
   "outputs": [],
   "source": [
    "w = nglview.show_mdanalysis(u)\n",
    "w.add_representation('ball+stick')\n",
    "w"
   ]
  },
  {
   "cell_type": "markdown",
   "metadata": {},
   "source": [
    "Spherical geometries are also possible:"
   ]
  },
  {
   "cell_type": "code",
   "execution_count": null,
   "metadata": {},
   "outputs": [],
   "source": [
    "dimensions = [40,40,40,90,90,90]\n",
    "\n",
    "n_sol = 4 * 4 * 4 * 33 / dens_factor\n",
    "\n",
    "u_sphere = nonmaicos.InsertSphere(nonmaicos.models.empty(dimensions), nonmaicos.models.spce(), n_sol)\n",
    "u_sphere.atoms.write('test.gro') \n"
   ]
  },
  {
   "cell_type": "code",
   "execution_count": null,
   "metadata": {},
   "outputs": [],
   "source": [
    "w = nglview.show_mdanalysis(u_sphere)\n",
    "w.add_representation('ball+stick')\n",
    "w"
   ]
  }
 ],
 "metadata": {
  "interpreter": {
   "hash": "916dbcbb3f70747c44a77c7bcd40155683ae19c65e1c03b4aa3499c5328201f1"
  },
  "kernelspec": {
   "display_name": "Python 3.8.10 64-bit",
   "language": "python",
   "name": "python3"
  },
  "language_info": {
   "codemirror_mode": {
    "name": "ipython",
    "version": 3
   },
   "file_extension": ".py",
   "mimetype": "text/x-python",
   "name": "python",
   "nbconvert_exporter": "python",
   "pygments_lexer": "ipython3",
   "version": "3.9.6"
  },
  "orig_nbformat": 4
 },
 "nbformat": 4,
 "nbformat_minor": 2
}
