{
 "cells": [
  {
   "cell_type": "markdown",
   "metadata": {},
   "source": [
    "# Import nonmaicos"
   ]
  },
  {
   "cell_type": "code",
   "execution_count": 1,
   "metadata": {},
   "outputs": [
    {
     "data": {
      "application/vnd.jupyter.widget-view+json": {
       "model_id": "81e99e4db45f49f28b6ccca5718bad64",
       "version_major": 2,
       "version_minor": 0
      },
      "text/plain": []
     },
     "metadata": {},
     "output_type": "display_data"
    }
   ],
   "source": [
    "import nonmaicos\n",
    "import maicos\n",
    "import nglview"
   ]
  },
  {
   "cell_type": "markdown",
   "metadata": {},
   "source": [
    "now you can create simple systems, for example:"
   ]
  },
  {
   "cell_type": "code",
   "execution_count": 2,
   "metadata": {},
   "outputs": [
    {
     "name": "stdout",
     "output_type": "stream",
     "text": [
      "Should solvate 42016 Projectiles\n",
      "Solvation factor: 100\n",
      "Best tiling is 8x8x8.\n",
      "Real solvation factor is 83\n",
      "This results in a total of 42496 projectiles in the solvate box\n"
     ]
    },
    {
     "name": "stderr",
     "output_type": "stream",
     "text": [
      "100%|██████████| 82/82 [00:00<00:00, 93.48it/s] \n"
     ]
    },
    {
     "name": "stdout",
     "output_type": "stream",
     "text": [
      "Tiling solvate box...\n"
     ]
    },
    {
     "name": "stderr",
     "output_type": "stream",
     "text": [
      "100%|██████████| 8/8 [00:00<00:00,  9.52it/s]\n"
     ]
    },
    {
     "name": "stdout",
     "output_type": "stream",
     "text": [
      "Inserting solvate box into target universe...\n",
      "Target atoms: 0\n",
      "Projectile atoms: 127488\n",
      "Search for overlapping atoms...\n",
      "Resulting number of atoms: 127488\n",
      "Expected number of atoms: 126048\n",
      "Too many projectiles inserted: 480\n",
      "127488\n",
      "42496\n",
      "(42496,)\n",
      "Removing 480 randomly selected projectiles.\n",
      "0 42016 42016\n",
      "Final number of atoms: 126048\n",
      "[125. 125.   0.]\n",
      "Too many projectiles inserted: 735\n",
      "101205\n",
      "33735\n",
      "(33735,)\n",
      "Removing 735 randomly selected projectiles.\n",
      "0 33000 33000\n",
      "Final number of atoms: 99000\n"
     ]
    }
   ],
   "source": [
    "u_bulk = nonmaicos.SolvateCylinder(\n",
    "    nonmaicos.models.empty([250, 250, 250, 90, 90, 90]),\n",
    "    nonmaicos.models.spce(),\n",
    "    10**3 * 33,\n",
    ")"
   ]
  },
  {
   "cell_type": "code",
   "execution_count": 6,
   "metadata": {},
   "outputs": [],
   "source": [
    "u_bulk.atoms.write(\"bulk.gro\")"
   ]
  },
  {
   "cell_type": "code",
   "execution_count": 3,
   "metadata": {},
   "outputs": [
    {
     "data": {
      "application/vnd.jupyter.widget-view+json": {
       "model_id": "47589f46adcd48a0bde2eccff91c6b8b",
       "version_major": 2,
       "version_minor": 0
      },
      "text/plain": [
       "NGLWidget()"
      ]
     },
     "metadata": {},
     "output_type": "display_data"
    }
   ],
   "source": [
    "w = nglview.show_mdanalysis(u_bulk)\n",
    "w.add_representation(\"ball+stick\")\n",
    "w.add_representation(\"unitcell\")\n",
    "w"
   ]
  },
  {
   "cell_type": "markdown",
   "metadata": {},
   "source": [
    "More complex systems can be created by insertion into existing systems:"
   ]
  },
  {
   "cell_type": "code",
   "execution_count": null,
   "metadata": {},
   "outputs": [],
   "source": [
    "ana = maicos.DensityPlanar(u_bulk.atoms).run()"
   ]
  },
  {
   "cell_type": "code",
   "execution_count": null,
   "metadata": {},
   "outputs": [],
   "source": [
    "import matplotlib.pyplot as plt\n",
    "\n",
    "plt.plot(ana.results.bin_pos, ana.results.profile)"
   ]
  },
  {
   "cell_type": "code",
   "execution_count": null,
   "metadata": {},
   "outputs": [],
   "source": [
    "dimensions = [40, 40, 40, 90, 90, 90]\n",
    "n_sol = 4**3 * 33 / dens_factor\n",
    "\n",
    "u = nonmaicos.InsertPlanar(\n",
    "    nonmaicos.models.empty(dimensions),\n",
    "    nonmaicos.models.spce(),\n",
    "    n_sol / 3,\n",
    "    zmax=dimensions[2] / 3,\n",
    ")\n",
    "u = nonmaicos.InsertPlanar(\n",
    "    u, nonmaicos.models.spce(), n_sol / 3, zmin=2 * dimensions[2] / 3\n",
    ")\n",
    "u = nonmaicos.InsertCylinder(\n",
    "    u, nonmaicos.models.spce(), n_sol / 6, radius=dimensions[2] / 6, dim=0\n",
    ")\n",
    "u.atoms.write(\"test.gro\")"
   ]
  },
  {
   "cell_type": "code",
   "execution_count": null,
   "metadata": {},
   "outputs": [],
   "source": [
    "w = nglview.show_mdanalysis(u)\n",
    "w.add_representation(\"ball+stick\")\n",
    "w"
   ]
  },
  {
   "cell_type": "markdown",
   "metadata": {},
   "source": [
    "Spherical geometries are also possible:"
   ]
  },
  {
   "cell_type": "code",
   "execution_count": null,
   "metadata": {},
   "outputs": [],
   "source": [
    "dimensions = [40, 40, 40, 90, 90, 90]\n",
    "\n",
    "n_sol = 4 * 4 * 4 * 33 / dens_factor\n",
    "\n",
    "u_sphere = nonmaicos.InsertSphere(\n",
    "    nonmaicos.models.empty(dimensions), nonmaicos.models.spce(), n_sol\n",
    ")\n",
    "u_sphere.atoms.write(\"test.gro\")"
   ]
  },
  {
   "cell_type": "code",
   "execution_count": null,
   "metadata": {},
   "outputs": [],
   "source": [
    "w = nglview.show_mdanalysis(u_sphere)\n",
    "w.add_representation(\"ball+stick\")\n",
    "w"
   ]
  }
 ],
 "metadata": {
  "interpreter": {
   "hash": "916dbcbb3f70747c44a77c7bcd40155683ae19c65e1c03b4aa3499c5328201f1"
  },
  "kernelspec": {
   "display_name": "Python 3.8.10 64-bit",
   "language": "python",
   "name": "python3"
  },
  "language_info": {
   "codemirror_mode": {
    "name": "ipython",
    "version": 3
   },
   "file_extension": ".py",
   "mimetype": "text/x-python",
   "name": "python",
   "nbconvert_exporter": "python",
   "pygments_lexer": "ipython3",
   "version": "3.9.6"
  },
  "orig_nbformat": 4
 },
 "nbformat": 4,
 "nbformat_minor": 2
}
