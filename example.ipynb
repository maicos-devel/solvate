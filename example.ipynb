{
 "cells": [
  {
   "cell_type": "markdown",
   "metadata": {},
   "source": [
    "# Import nonmaicos"
   ]
  },
  {
   "cell_type": "code",
   "execution_count": null,
   "metadata": {},
   "outputs": [],
   "source": [
    "import nonmaicos\n",
    "import nglview\n",
    "dens_factor = 4 # density factor to make the examples run faster"
   ]
  },
  {
   "cell_type": "markdown",
   "metadata": {},
   "source": [
    "now you can create simple systems, for example:"
   ]
  },
  {
   "cell_type": "code",
   "execution_count": null,
   "metadata": {},
   "outputs": [],
   "source": [
    "dimensions = [40,40,40,90,90,90]\n",
    "n_sol = 4**3 * 33 / dens_factor\n",
    "\n",
    "u_bulk = nonmaicos.InsertPlanar(nonmaicos.models.empty(dimensions), nonmaicos.models.spce(), n_sol)"
   ]
  },
  {
   "cell_type": "code",
   "execution_count": null,
   "metadata": {},
   "outputs": [],
   "source": [
    "w = nglview.show_mdanalysis(u_bulk)\n",
    "w.add_representation('ball+stick')\n",
    "w"
   ]
  },
  {
   "cell_type": "markdown",
   "metadata": {},
   "source": [
    "More complex systems can be created by insertion into existing systems:"
   ]
  },
  {
   "cell_type": "code",
   "execution_count": null,
   "metadata": {},
   "outputs": [],
   "source": [
    "dimensions = [40,40,40,90,90,90]\n",
    "n_sol = 4**3 * 33 / dens_factor\n",
    "\n",
    "u = nonmaicos.InsertPlanar(nonmaicos.models.empty(dimensions), nonmaicos.models.spce(), n_sol/3, zmax=dimensions[2]/3 )\n",
    "u = nonmaicos.InsertPlanar(u, nonmaicos.models.spce(), n_sol/3, zmin=2*dimensions[2]/3 )\n",
    "u = nonmaicos.InsertCylinder(u, nonmaicos.models.spce(), n_sol/6, radius=dimensions[2]/6, dim=0)\n",
    "u.atoms.write('test.gro')"
   ]
  },
  {
   "cell_type": "code",
   "execution_count": null,
   "metadata": {},
   "outputs": [],
   "source": [
    "w = nglview.show_mdanalysis(u)\n",
    "w.add_representation('ball+stick')\n",
    "w"
   ]
  },
  {
   "cell_type": "markdown",
   "metadata": {},
   "source": [
    "Spherical geometries are also possible:"
   ]
  },
  {
   "cell_type": "code",
   "execution_count": null,
   "metadata": {},
   "outputs": [],
   "source": [
    "dimensions = [40,40,40,90,90,90]\n",
    "\n",
    "n_sol = 4 * 4 * 4 * 33 / dens_factor\n",
    "\n",
    "u_sphere = nonmaicos.InsertSphere(nonmaicos.models.empty(dimensions), nonmaicos.models.spce(), n_sol)\n",
    "u_sphere.atoms.write('test.gro') \n"
   ]
  },
  {
   "cell_type": "code",
   "execution_count": null,
   "metadata": {},
   "outputs": [],
   "source": [
    "w = nglview.show_mdanalysis(u_sphere)\n",
    "w.add_representation('ball+stick')\n",
    "w"
   ]
  }
 ],
 "metadata": {
  "interpreter": {
   "hash": "916dbcbb3f70747c44a77c7bcd40155683ae19c65e1c03b4aa3499c5328201f1"
  },
  "kernelspec": {
   "display_name": "Python 3.8.10 64-bit",
   "language": "python",
   "name": "python3"
  },
  "language_info": {
   "codemirror_mode": {
    "name": "ipython",
    "version": 3
   },
   "file_extension": ".py",
   "mimetype": "text/x-python",
   "name": "python",
   "nbconvert_exporter": "python",
   "pygments_lexer": "ipython3",
   "version": "3.9.7"
  },
  "orig_nbformat": 4
 },
 "nbformat": 4,
 "nbformat_minor": 2
}
