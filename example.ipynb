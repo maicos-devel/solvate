{
 "cells": [
  {
   "cell_type": "markdown",
   "metadata": {},
   "source": [
    "# Import nonmaicos"
   ]
  },
  {
   "cell_type": "code",
   "execution_count": null,
   "metadata": {},
   "outputs": [],
   "source": [
    "import nonmaicos\n",
    "import maicos\n",
    "import nglview"
   ]
  },
  {
   "cell_type": "markdown",
   "metadata": {},
   "source": [
    "now you can create simple systems, for example:"
   ]
  },
  {
   "cell_type": "code",
   "execution_count": null,
   "metadata": {},
   "outputs": [],
   "source": [
    "u_bulk = nonmaicos.SolvateCylinder(\n",
    "    nonmaicos.models.empty([250, 250, 250, 90, 90, 90]),\n",
    "    nonmaicos.models.spce(),\n",
    "    10**3 * 33,\n",
    ")"
   ]
  },
  {
   "cell_type": "code",
   "execution_count": null,
   "metadata": {},
   "outputs": [],
   "source": [
    "u_bulk.atoms.write(\"bulk.gro\")"
   ]
  },
  {
   "cell_type": "code",
   "execution_count": null,
   "metadata": {},
   "outputs": [],
   "source": [
    "w = nglview.show_mdanalysis(u_bulk)\n",
    "w.add_representation(\"ball+stick\")\n",
    "w.add_representation(\"unitcell\")\n",
    "w"
   ]
  },
  {
   "cell_type": "markdown",
   "metadata": {},
   "source": [
    "More complex systems can be created by insertion into existing systems:"
   ]
  },
  {
   "cell_type": "code",
   "execution_count": null,
   "metadata": {},
   "outputs": [],
   "source": [
    "ana = maicos.DensityPlanar(u_bulk.atoms).run()"
   ]
  },
  {
   "cell_type": "code",
   "execution_count": null,
   "metadata": {},
   "outputs": [],
   "source": [
    "import matplotlib.pyplot as plt\n",
    "\n",
    "plt.plot(ana.results.bin_pos, ana.results.profile)"
   ]
  },
  {
   "cell_type": "code",
   "execution_count": null,
   "metadata": {},
   "outputs": [],
   "source": [
    "dimensions = [40, 40, 40, 90, 90, 90]\n",
    "n_sol = 4**3 * 33 / dens_factor\n",
    "\n",
    "u = nonmaicos.InsertPlanar(\n",
    "    nonmaicos.models.empty(dimensions),\n",
    "    nonmaicos.models.spce(),\n",
    "    n_sol / 3,\n",
    "    zmax=dimensions[2] / 3,\n",
    ")\n",
    "u = nonmaicos.InsertPlanar(\n",
    "    u, nonmaicos.models.spce(), n_sol / 3, zmin=2 * dimensions[2] / 3\n",
    ")\n",
    "u = nonmaicos.InsertCylinder(\n",
    "    u, nonmaicos.models.spce(), n_sol / 6, radius=dimensions[2] / 6, dim=0\n",
    ")\n",
    "u.atoms.write(\"test.gro\")"
   ]
  },
  {
   "cell_type": "code",
   "execution_count": null,
   "metadata": {},
   "outputs": [],
   "source": [
    "w = nglview.show_mdanalysis(u)\n",
    "w.add_representation(\"ball+stick\")\n",
    "w"
   ]
  },
  {
   "cell_type": "markdown",
   "metadata": {},
   "source": [
    "Spherical geometries are also possible:"
   ]
  },
  {
   "cell_type": "code",
   "execution_count": null,
   "metadata": {},
   "outputs": [],
   "source": [
    "dimensions = [40, 40, 40, 90, 90, 90]\n",
    "\n",
    "n_sol = 4 * 4 * 4 * 33 / dens_factor\n",
    "\n",
    "u_sphere = nonmaicos.InsertSphere(\n",
    "    nonmaicos.models.empty(dimensions), nonmaicos.models.spce(), n_sol\n",
    ")\n",
    "u_sphere.atoms.write(\"test.gro\")"
   ]
  },
  {
   "cell_type": "code",
   "execution_count": null,
   "metadata": {},
   "outputs": [],
   "source": [
    "w = nglview.show_mdanalysis(u_sphere)\n",
    "w.add_representation(\"ball+stick\")\n",
    "w"
   ]
  }
 ],
 "metadata": {
  "interpreter": {
   "hash": "916dbcbb3f70747c44a77c7bcd40155683ae19c65e1c03b4aa3499c5328201f1"
  },
  "kernelspec": {
   "display_name": "Python 3.8.10 64-bit",
   "language": "python",
   "name": "python3"
  },
  "language_info": {
   "codemirror_mode": {
    "name": "ipython",
    "version": 3
   },
   "file_extension": ".py",
   "mimetype": "text/x-python",
   "name": "python",
   "nbconvert_exporter": "python",
   "pygments_lexer": "ipython3",
   "version": "3.9.6"
  },
  "orig_nbformat": 4
 },
 "nbformat": 4,
 "nbformat_minor": 2
}
