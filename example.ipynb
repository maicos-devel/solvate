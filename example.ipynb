{
 "cells": [
  {
   "cell_type": "markdown",
   "metadata": {},
   "source": [
    "# Import nonmaicos"
   ]
  },
  {
   "cell_type": "code",
   "execution_count": 1,
   "metadata": {},
   "outputs": [],
   "source": [
    "import nonmaicos"
   ]
  },
  {
   "cell_type": "markdown",
   "metadata": {},
   "source": [
    "now you can create simple systems, for example:"
   ]
  },
  {
   "cell_type": "code",
   "execution_count": 2,
   "metadata": {},
   "outputs": [
    {
     "name": "stderr",
     "output_type": "stream",
     "text": [
      "100%|██████████| 999/999 [00:10<00:00, 94.94it/s] \n",
      "100%|██████████| 1000/1000 [00:27<00:00, 36.65it/s]\n",
      "100%|██████████| 500/500 [00:20<00:00, 24.52it/s]\n"
     ]
    }
   ],
   "source": [
    "dimensions = [100,100,100,90,90,90]\n",
    "n_sol = 10 * 10 * 10 * 3\n",
    "\n",
    "u = nonmaicos.InsertPlanar(nonmaicos.models.empty(dimensions), nonmaicos.models.spce(), n_sol/3, zmax=dimensions[2]/3 )\n",
    "u = nonmaicos.InsertPlanar(u, nonmaicos.models.spce(), n_sol/3, zmin=2*dimensions[2]/3 )\n",
    "u = nonmaicos.InsertCylinder(u, nonmaicos.models.spce(), n_sol/6, radius=dimensions[2]/6, dim=0)\n",
    "u.atoms.write('test.gro')"
   ]
  }
 ],
 "metadata": {
  "interpreter": {
   "hash": "916dbcbb3f70747c44a77c7bcd40155683ae19c65e1c03b4aa3499c5328201f1"
  },
  "kernelspec": {
   "display_name": "Python 3.8.10 64-bit",
   "language": "python",
   "name": "python3"
  },
  "language_info": {
   "codemirror_mode": {
    "name": "ipython",
    "version": 3
   },
   "file_extension": ".py",
   "mimetype": "text/x-python",
   "name": "python",
   "nbconvert_exporter": "python",
   "pygments_lexer": "ipython3",
   "version": "3.8.10"
  },
  "orig_nbformat": 4
 },
 "nbformat": 4,
 "nbformat_minor": 2
}
